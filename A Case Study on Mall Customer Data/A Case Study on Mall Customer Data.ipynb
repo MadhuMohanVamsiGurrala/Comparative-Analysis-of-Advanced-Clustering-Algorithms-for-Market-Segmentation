{
 "cells": [
  {
   "cell_type": "code",
   "execution_count": 1,
   "id": "e7e0e8ad-857b-4a60-9689-591509251829",
   "metadata": {},
   "outputs": [],
   "source": [
    "import os\n",
    "import pandas as pd\n",
    "import numpy as np\n",
    "import matplotlib.pyplot as plt\n",
    "from sklearn.cluster import (KMeans, DBSCAN, AgglomerativeClustering, SpectralClustering,\n",
    "                             OPTICS, AffinityPropagation, MeanShift, Birch)\n",
    "from sklearn.mixture import GaussianMixture\n",
    "from sklearn.preprocessing import StandardScaler\n",
    "from sklearn.metrics import silhouette_score, davies_bouldin_score, calinski_harabasz_score\n",
    "from scipy.cluster.hierarchy import linkage, fcluster\n",
    "from sklearn.decomposition import PCA"
   ]
  },
  {
   "cell_type": "code",
   "execution_count": 2,
   "id": "97cd14c5-71f0-4a36-8f24-6345ad492b75",
   "metadata": {},
   "outputs": [],
   "source": [
    "# Set environment variable to avoid KMeans memory leak warning\n",
    "os.environ[\"OMP_NUM_THREADS\"] = \"1\""
   ]
  },
  {
   "cell_type": "code",
   "execution_count": 3,
   "id": "65c197d1-78da-4aee-a54c-11a79e7bdb5d",
   "metadata": {},
   "outputs": [],
   "source": [
    "# Load the data\n",
    "data_url = r'E:\\Journal Papers\\Comparative Analysis of Advanced Clustering Algorithms for Market Segmentation\\A Case Study on Mall Customer Data\\Mall_Customers.csv'\n",
    "data = pd.read_csv(data_url)"
   ]
  },
  {
   "cell_type": "code",
   "execution_count": 4,
   "id": "bfc8c3f2-c939-4bc0-83d4-2767845be26f",
   "metadata": {},
   "outputs": [],
   "source": [
    "# Select relevant features\n",
    "features = ['Age', 'Annual Income (k$)', 'Spending Score (1-100)']\n",
    "data = data.dropna(subset=features)  # Drop rows with missing values in selected features\n",
    "X = data[features]"
   ]
  },
  {
   "cell_type": "code",
   "execution_count": 5,
   "id": "cf78c2ba-90e6-4077-ab15-c18284199ea2",
   "metadata": {},
   "outputs": [],
   "source": [
    "# Standardize the data\n",
    "scaler = StandardScaler()\n",
    "X_scaled = scaler.fit_transform(X)"
   ]
  },
  {
   "cell_type": "code",
   "execution_count": 6,
   "id": "37f47b63-7541-4da1-8216-9b7054fdcc77",
   "metadata": {},
   "outputs": [],
   "source": [
    "# Function to calculate silhouette score and plot clusters\n",
    "def plot_clusters(X, labels, title):\n",
    "    pca = PCA(2)  # Reduce to 2 dimensions for visualization\n",
    "    X_pca = pca.fit_transform(X)\n",
    "    plt.scatter(X_pca[:, 0], X_pca[:, 1], c=labels, cmap='viridis')\n",
    "    plt.title(title)\n",
    "    plt.show()\n",
    "\n",
    "def evaluate_clustering(X, labels, method_name):\n",
    "    silhouette = silhouette_score(X, labels)\n",
    "    davies_bouldin = davies_bouldin_score(X, labels)\n",
    "    calinski_harabasz = calinski_harabasz_score(X, labels)\n",
    "    print(f\"Silhouette Score ({method_name}): {silhouette:.3f}\")\n",
    "    print(f\"Davies-Bouldin Score ({method_name}): {davies_bouldin:.3f}\")\n",
    "    print(f\"Calinski-Harabasz Score ({method_name}): {calinski_harabasz:.3f}\")\n",
    "    return silhouette, davies_bouldin, calinski_harabasz"
   ]
  },
  {
   "cell_type": "code",
   "execution_count": 7,
   "id": "c3978dc8-c061-4bfc-8feb-2118a9710eae",
   "metadata": {},
   "outputs": [],
   "source": [
    "# K-Means Clustering\n",
    "def kmeans_segmentation(X, k=3):\n",
    "    kmeans = KMeans(n_clusters=k, random_state=42)\n",
    "    labels = kmeans.fit_predict(X)\n",
    "    return labels, kmeans.inertia_"
   ]
  },
  {
   "cell_type": "code",
   "execution_count": 8,
   "id": "1372f865-2acf-4f4f-8a7a-2ffacc8b2e82",
   "metadata": {},
   "outputs": [],
   "source": [
    "# Hierarchical Clustering\n",
    "def hierarchical_segmentation(X, n_clusters=3):\n",
    "    Z = linkage(X, 'ward')\n",
    "    labels = fcluster(Z, t=n_clusters, criterion='maxclust')\n",
    "    return labels, None  # No inertia for hierarchical clustering"
   ]
  },
  {
   "cell_type": "code",
   "execution_count": 9,
   "id": "9f464c47-51d7-4998-9585-57473e3fecfd",
   "metadata": {},
   "outputs": [],
   "source": [
    "# DBSCAN Clustering\n",
    "def dbscan_segmentation(X, eps=0.5, min_samples=5):\n",
    "    dbscan = DBSCAN(eps=eps, min_samples=min_samples)\n",
    "    labels = dbscan.fit_predict(X)\n",
    "    return labels, None  # No inertia for DBSCAN"
   ]
  },
  {
   "cell_type": "code",
   "execution_count": 10,
   "id": "57113d6a-ef49-453e-9fa9-958b5c61f9d4",
   "metadata": {},
   "outputs": [],
   "source": [
    "# Gaussian Mixture Model Clustering\n",
    "def gmm_segmentation(X, n_components=3):\n",
    "    gmm = GaussianMixture(n_components=n_components, random_state=42)\n",
    "    labels = gmm.fit_predict(X)\n",
    "    return labels, gmm.bic(X)  # Using BIC as a comparative metric"
   ]
  },
  {
   "cell_type": "code",
   "execution_count": 11,
   "id": "fd31f093-dc6c-43e1-9ee8-ad9fce0160d1",
   "metadata": {},
   "outputs": [],
   "source": [
    "# Mean Shift Clustering\n",
    "def meanshift_segmentation(X):\n",
    "    meanshift = MeanShift()\n",
    "    labels = meanshift.fit_predict(X)\n",
    "    return labels, None  # No inertia for Mean Shift"
   ]
  },
  {
   "cell_type": "code",
   "execution_count": 12,
   "id": "40a55a57-f466-45c3-b7fa-b1b6da66cac3",
   "metadata": {},
   "outputs": [],
   "source": [
    "# Agglomerative Clustering\n",
    "def agglomerative_segmentation(X, n_clusters=3):\n",
    "    agglomerative = AgglomerativeClustering(n_clusters=n_clusters)\n",
    "    labels = agglomerative.fit_predict(X)\n",
    "    return labels, None  # No inertia for Agglomerative Clustering"
   ]
  },
  {
   "cell_type": "code",
   "execution_count": 13,
   "id": "65a189a7-49de-4789-b202-04105fe9fa03",
   "metadata": {},
   "outputs": [],
   "source": [
    "# BIRCH Clustering\n",
    "def birch_segmentation(X, n_clusters=3):\n",
    "    birch = Birch(n_clusters=n_clusters)\n",
    "    labels = birch.fit_predict(X)\n",
    "    return labels, None  # No inertia for BIRCH"
   ]
  },
  {
   "cell_type": "code",
   "execution_count": 14,
   "id": "ca443385-ad09-4160-a4bd-e11bcc23602e",
   "metadata": {},
   "outputs": [],
   "source": [
    "# Spectral Clustering\n",
    "def spectral_segmentation(X, n_clusters=3):\n",
    "    spectral = SpectralClustering(n_clusters=n_clusters, random_state=42)\n",
    "    labels = spectral.fit_predict(X)\n",
    "    return labels, None  # No inertia for Spectral Clustering"
   ]
  },
  {
   "cell_type": "code",
   "execution_count": 15,
   "id": "88f0be65-cf9e-4801-96cf-9eced2b541a0",
   "metadata": {},
   "outputs": [],
   "source": [
    "# OPTICS Clustering\n",
    "def optics_segmentation(X, min_samples=5):\n",
    "    optics = OPTICS(min_samples=min_samples)\n",
    "    labels = optics.fit_predict(X)\n",
    "    return labels, None  # No inertia for OPTICS Clustering"
   ]
  },
  {
   "cell_type": "code",
   "execution_count": 16,
   "id": "b4b8cb7d-05fa-49de-9b53-60d2e0f8dd86",
   "metadata": {},
   "outputs": [],
   "source": [
    "# Affinity Propagation Clustering\n",
    "def affinity_propagation_segmentation(X):\n",
    "    affinity_propagation = AffinityPropagation(random_state=42)\n",
    "    labels = affinity_propagation.fit_predict(X)\n",
    "    return labels, None  # No inertia for Affinity Propagation"
   ]
  },
  {
   "cell_type": "code",
   "execution_count": 17,
   "id": "e721b5d1-0f24-40f8-9775-6a902ab232cf",
   "metadata": {},
   "outputs": [],
   "source": [
    "# Apply the clustering algorithms\n",
    "methods = {\n",
    "    'K-Means': kmeans_segmentation,\n",
    "    'Hierarchical': hierarchical_segmentation,\n",
    "    'DBSCAN': dbscan_segmentation,\n",
    "    'GMM': gmm_segmentation,\n",
    "    'Mean Shift': meanshift_segmentation,\n",
    "    'Agglomerative': agglomerative_segmentation,\n",
    "    'BIRCH': birch_segmentation,\n",
    "    'Spectral': spectral_segmentation,\n",
    "    'OPTICS': optics_segmentation,\n",
    "    'Affinity Propagation': affinity_propagation_segmentation\n",
    "}"
   ]
  },
  {
   "cell_type": "code",
   "execution_count": 18,
   "id": "124852ea-9f87-4105-95f1-435f970576d4",
   "metadata": {},
   "outputs": [
    {
     "name": "stderr",
     "output_type": "stream",
     "text": [
      "C:\\Users\\madhu\\AppData\\Local\\anaconda3\\Lib\\site-packages\\sklearn\\cluster\\_kmeans.py:1446: UserWarning: KMeans is known to have a memory leak on Windows with MKL, when there are less chunks than available threads. You can avoid it by setting the environment variable OMP_NUM_THREADS=1.\n",
      "  warnings.warn(\n",
      "C:\\Users\\madhu\\AppData\\Local\\anaconda3\\Lib\\site-packages\\sklearn\\cluster\\_kmeans.py:1446: UserWarning: KMeans is known to have a memory leak on Windows with MKL, when there are less chunks than available threads. You can avoid it by setting the environment variable OMP_NUM_THREADS=1.\n",
      "  warnings.warn(\n"
     ]
    },
    {
     "name": "stdout",
     "output_type": "stream",
     "text": [
      "Silhouette Score (K-Means): 0.358\n",
      "Davies-Bouldin Score (K-Means): 1.033\n",
      "Calinski-Harabasz Score (K-Means): 101.530\n",
      "Silhouette Score (Hierarchical): 0.321\n",
      "Davies-Bouldin Score (Hierarchical): 1.128\n",
      "Calinski-Harabasz Score (Hierarchical): 88.102\n",
      "Silhouette Score (DBSCAN): 0.185\n",
      "Davies-Bouldin Score (DBSCAN): 1.757\n",
      "Calinski-Harabasz Score (DBSCAN): 34.071\n",
      "Silhouette Score (GMM): 0.335\n",
      "Davies-Bouldin Score (GMM): 1.019\n",
      "Calinski-Harabasz Score (GMM): 90.864\n",
      "Warning: Mean Shift produced 1 labels. Skipping evaluation.\n",
      "Silhouette Score (Agglomerative): 0.321\n",
      "Davies-Bouldin Score (Agglomerative): 1.128\n",
      "Calinski-Harabasz Score (Agglomerative): 88.102\n",
      "Silhouette Score (BIRCH): 0.266\n",
      "Davies-Bouldin Score (BIRCH): 1.061\n",
      "Calinski-Harabasz Score (BIRCH): 63.583\n"
     ]
    },
    {
     "name": "stderr",
     "output_type": "stream",
     "text": [
      "C:\\Users\\madhu\\AppData\\Local\\anaconda3\\Lib\\site-packages\\sklearn\\cluster\\_kmeans.py:1446: UserWarning: KMeans is known to have a memory leak on Windows with MKL, when there are less chunks than available threads. You can avoid it by setting the environment variable OMP_NUM_THREADS=1.\n",
      "  warnings.warn(\n"
     ]
    },
    {
     "name": "stdout",
     "output_type": "stream",
     "text": [
      "Silhouette Score (Spectral): 0.353\n",
      "Davies-Bouldin Score (Spectral): 0.993\n",
      "Calinski-Harabasz Score (Spectral): 99.602\n",
      "Silhouette Score (OPTICS): -0.063\n",
      "Davies-Bouldin Score (OPTICS): 1.399\n",
      "Calinski-Harabasz Score (OPTICS): 12.523\n",
      "Silhouette Score (Affinity Propagation): 0.369\n",
      "Davies-Bouldin Score (Affinity Propagation): 0.949\n",
      "Calinski-Harabasz Score (Affinity Propagation): 128.602\n"
     ]
    }
   ],
   "source": [
    "# Collect results\n",
    "results = {}\n",
    "silhouette_scores = {}\n",
    "davies_bouldin_scores = {}\n",
    "calinski_harabasz_scores = {}\n",
    "\n",
    "for method_name, method_func in methods.items():\n",
    "    labels, _ = method_func(X_scaled)\n",
    "    \n",
    "    # Check if labels are sufficient\n",
    "    unique_labels = np.unique(labels)\n",
    "    if len(unique_labels) < 2:\n",
    "        print(f\"Warning: {method_name} produced {len(unique_labels)} labels. Skipping evaluation.\")\n",
    "        continue\n",
    "    \n",
    "    results[method_name] = labels\n",
    "    silhouette_scores[method_name], davies_bouldin_scores[method_name], calinski_harabasz_scores[method_name] = evaluate_clustering(X_scaled, labels, method_name)\n"
   ]
  },
  {
   "cell_type": "code",
   "execution_count": null,
   "id": "27be8763-6759-4c65-8313-21879a5807a5",
   "metadata": {},
   "outputs": [],
   "source": []
  }
 ],
 "metadata": {
  "kernelspec": {
   "display_name": "Python 3 (ipykernel)",
   "language": "python",
   "name": "python3"
  },
  "language_info": {
   "codemirror_mode": {
    "name": "ipython",
    "version": 3
   },
   "file_extension": ".py",
   "mimetype": "text/x-python",
   "name": "python",
   "nbconvert_exporter": "python",
   "pygments_lexer": "ipython3",
   "version": "3.12.4"
  }
 },
 "nbformat": 4,
 "nbformat_minor": 5
}
